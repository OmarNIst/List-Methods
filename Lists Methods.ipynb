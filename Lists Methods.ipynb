{
 "cells": [
  {
   "cell_type": "code",
   "execution_count": 1,
   "metadata": {},
   "outputs": [
    {
     "name": "stdout",
     "output_type": "stream",
     "text": [
      "One\n",
      "True\n",
      "['Two', 'One', 1]\n",
      "['One', 'Two', 'One', 1]\n",
      "['Two', 'One', 1, 100.2, True]\n"
     ]
    }
   ],
   "source": [
    "# Lists\n",
    "# [1] The List Items are enclosed in square brackets \n",
    "# [2] List are Ordered, to use Index to access Item\n",
    "# [3] List Are Mutable => Add , Delete , Edit\n",
    "# [4] List Items are not unique => we can repeat the same item inside List \n",
    "# r = [\"one\",\"two\",\"one\",\"two\"]\n",
    "# [5] List Can Have Different Data Types\n",
    "MyList = [\"One\",\"Two\",\"One\", 1 , 100.2, True]\n",
    "print(MyList[0])\n",
    "print(MyList[-1])\n",
    "print(MyList[1:4])\n",
    "print(MyList[:4])  # it does not include the end \n",
    "print(MyList[1:])  # but the start poit will include"
   ]
  },
  {
   "cell_type": "code",
   "execution_count": 2,
   "metadata": {},
   "outputs": [
    {
     "name": "stdout",
     "output_type": "stream",
     "text": [
      "<class 'str'>\n"
     ]
    }
   ],
   "source": [
    "print(type(MyList[0]))"
   ]
  },
  {
   "cell_type": "code",
   "execution_count": 3,
   "metadata": {},
   "outputs": [
    {
     "name": "stdout",
     "output_type": "stream",
     "text": [
      "['One', 'Two', 'One', 1, 100.2, True]\n",
      "['One', 'One', 100.2]\n"
     ]
    }
   ],
   "source": [
    "print(MyList[::1])  # what does this mean !!   the last one it means the step\n",
    "print(MyList[::2])"
   ]
  },
  {
   "cell_type": "code",
   "execution_count": 4,
   "metadata": {},
   "outputs": [
    {
     "name": "stdout",
     "output_type": "stream",
     "text": [
      "Two\n",
      "2\n"
     ]
    }
   ],
   "source": [
    "#  To change in the list\n",
    "print(MyList[1])\n",
    "MyList[1] = 2\n",
    "print(MyList[1])"
   ]
  },
  {
   "cell_type": "code",
   "execution_count": 5,
   "metadata": {},
   "outputs": [
    {
     "name": "stdout",
     "output_type": "stream",
     "text": [
      "['One', 2, 'One', 1, 100.2, False]\n"
     ]
    }
   ],
   "source": [
    "# Another Example\n",
    "MyList[-1]=False\n",
    "print(MyList)"
   ]
  },
  {
   "cell_type": "code",
   "execution_count": 6,
   "metadata": {},
   "outputs": [
    {
     "name": "stdout",
     "output_type": "stream",
     "text": [
      "['One', 1, 100.2, False]\n",
      "[False]\n"
     ]
    }
   ],
   "source": [
    "##  Just to know, we Can Modify many Items\n",
    "MyList[0:2]= []\n",
    "print(MyList)\n",
    "MyList[0:3]= []\n",
    "print(MyList)"
   ]
  },
  {
   "cell_type": "code",
   "execution_count": 7,
   "metadata": {},
   "outputs": [
    {
     "name": "stdout",
     "output_type": "stream",
     "text": [
      "['A', 'B', 'C']\n"
     ]
    }
   ],
   "source": [
    "MyList[0:2]= [\"A\",\"B\",\"C\"]\n",
    "print(MyList)\n",
    "# it is not replace , it is totally modification"
   ]
  },
  {
   "cell_type": "code",
   "execution_count": 12,
   "metadata": {},
   "outputs": [
    {
     "name": "stdout",
     "output_type": "stream",
     "text": [
      "['Omar', 'shefa', 'Mais', 'Yazan', 'Tammem']\n"
     ]
    }
   ],
   "source": [
    "#------- List Method -------\n",
    "# append()  The Idea of append, that we have an element and we want to add it to the list\n",
    "MyList_2 = [\"Omar\", \"shefa\" , \"Mais\", \"Yazan\"]\n",
    "MyList_2.append(\"Tammem\")\n",
    "print(MyList_2)"
   ]
  },
  {
   "cell_type": "code",
   "execution_count": 13,
   "metadata": {},
   "outputs": [
    {
     "name": "stdout",
     "output_type": "stream",
     "text": [
      "[0, 1, 2, 3, 4, 5, 6, 7]\n"
     ]
    }
   ],
   "source": [
    "#------- List Method -------\n",
    "my_list = []  # Use a different name, as 'list' is a built-in type in Python\n",
    "for i in range(8):\n",
    "    my_list.append(i)\n",
    "print(my_list)"
   ]
  },
  {
   "cell_type": "code",
   "execution_count": 14,
   "metadata": {},
   "outputs": [
    {
     "name": "stdout",
     "output_type": "stream",
     "text": [
      "[0, 1, 2, 3, 4, 5, 6, 7, False]\n"
     ]
    }
   ],
   "source": [
    "#------- List Method -------\n",
    "# in the append we can add anything we want \n",
    "my_list.append(False)\n",
    "print(my_list)"
   ]
  },
  {
   "cell_type": "code",
   "execution_count": 15,
   "metadata": {},
   "outputs": [
    {
     "name": "stdout",
     "output_type": "stream",
     "text": [
      "[0, 1, 2, 3, 4, 5, 6, 7, False, ['Manal', 'Nidal']]\n"
     ]
    }
   ],
   "source": [
    "#------- List Method -------\n",
    "#------- By using append() ,  we can all list to list \n",
    "myNewList=[\"Manal\" , \"Nidal\"]\n",
    "my_list.append(myNewList)\n",
    "print(my_list)"
   ]
  },
  {
   "cell_type": "code",
   "execution_count": 23,
   "metadata": {},
   "outputs": [
    {
     "name": "stdout",
     "output_type": "stream",
     "text": [
      "False\n",
      "['Manal', 'Nidal']\n",
      "Manal\n",
      "Nidal\n"
     ]
    }
   ],
   "source": [
    "print(my_list[8])\n",
    "print(my_list[9])\n",
    "print(my_list[9][0])   #  This means that the elemant 9 is a list  and the elemant with index 1 is Manal\n",
    "print(my_list[9][1])   #  This means that the elemant 9 is a list  and the elemant with index 1 is Nidal"
   ]
  },
  {
   "cell_type": "code",
   "execution_count": 25,
   "metadata": {},
   "outputs": [
    {
     "name": "stdout",
     "output_type": "stream",
     "text": [
      "['A', 'B', 'C', 'D', 1, 2, 3, 4, 5, 6]\n",
      "[1, 2, 3, 4, 5, 6]\n",
      "['A', 'B', 'C', 'D', 1, 2, 3, 4, 5, 6] [1, 2, 3, 4, 5, 6]\n"
     ]
    }
   ],
   "source": [
    "#------- List Method -------\n",
    "a = [\"A\",\"B\",\"C\",\"D\"]\n",
    "b = [1,2,3,4,5,6]\n",
    "a.extend(b)\n",
    "print(a)\n",
    "print(b)\n",
    "print(a,b)"
   ]
  },
  {
   "cell_type": "code",
   "execution_count": 28,
   "metadata": {},
   "outputs": [
    {
     "name": "stdout",
     "output_type": "stream",
     "text": [
      "['A', 'B', 'C', 'D', 1, 2, 3, 4, 5, 6, 'LOL']\n"
     ]
    }
   ],
   "source": [
    "#------- List Method -------\n",
    "#-------    remove   -------\n",
    "x = ['A', 'B', 'C', 'D', 1, 2, 3, 4, 5, 6,\"LOL\",\"LOL\"]\n",
    "x.remove(\"LOL\")    #  remove is searching about the first element with the given name, Just the first one\n",
    "print(x)\n"
   ]
  },
  {
   "cell_type": "code",
   "execution_count": 30,
   "metadata": {},
   "outputs": [
    {
     "name": "stdout",
     "output_type": "stream",
     "text": [
      "[-6, 0, 2, 3, 4, 5, 7, 8, 100]\n",
      "[100, 8, 7, 5, 4, 3, 2, 0, -6]\n"
     ]
    }
   ],
   "source": [
    "#------- List Method -------\n",
    "#-------     sort    -------\n",
    "T = [5,8,3,2,7,4,100,-6,0]   # these are not neat list \n",
    "T.sort()\n",
    "print(T)\n",
    "T.sort( reverse = True )\n",
    "print(T)"
   ]
  },
  {
   "cell_type": "code",
   "execution_count": 31,
   "metadata": {},
   "outputs": [
    {
     "name": "stdout",
     "output_type": "stream",
     "text": [
      "['C', 'B', 'A']\n"
     ]
    }
   ],
   "source": [
    "R = [\"A\",\"B\",\"C\"]\n",
    "R.sort( reverse = True )\n",
    "print(R)"
   ]
  },
  {
   "cell_type": "code",
   "execution_count": 32,
   "metadata": {},
   "outputs": [
    {
     "ename": "TypeError",
     "evalue": "'<' not supported between instances of 'str' and 'int'",
     "output_type": "error",
     "traceback": [
      "\u001b[1;31m---------------------------------------------------------------------------\u001b[0m",
      "\u001b[1;31mTypeError\u001b[0m                                 Traceback (most recent call last)",
      "\u001b[1;32mUntitled-1.ipynb Cell 17\u001b[0m line \u001b[0;36m4\n\u001b[0;32m      <a href='vscode-notebook-cell:Untitled-1.ipynb?jupyter-notebook#X21sdW50aXRsZWQ%3D?line=0'>1</a>\u001b[0m \u001b[39m#------- List Method -------\u001b[39;00m\n\u001b[0;32m      <a href='vscode-notebook-cell:Untitled-1.ipynb?jupyter-notebook#X21sdW50aXRsZWQ%3D?line=1'>2</a>\u001b[0m \u001b[39m#-------   reverse   -------\u001b[39;00m\n\u001b[0;32m      <a href='vscode-notebook-cell:Untitled-1.ipynb?jupyter-notebook#X21sdW50aXRsZWQ%3D?line=2'>3</a>\u001b[0m V \u001b[39m=\u001b[39m [\u001b[39m10\u001b[39m,\u001b[39m1\u001b[39m,\u001b[39m9\u001b[39m,\u001b[39m60\u001b[39m,\u001b[39m99\u001b[39m, \u001b[39m\"\u001b[39m\u001b[39mDanya\u001b[39m\u001b[39m\"\u001b[39m,\u001b[39m100\u001b[39m]\n\u001b[1;32m----> <a href='vscode-notebook-cell:Untitled-1.ipynb?jupyter-notebook#X21sdW50aXRsZWQ%3D?line=3'>4</a>\u001b[0m V\u001b[39m.\u001b[39;49msort( reverse \u001b[39m=\u001b[39;49m \u001b[39mTrue\u001b[39;49;00m )\n\u001b[0;32m      <a href='vscode-notebook-cell:Untitled-1.ipynb?jupyter-notebook#X21sdW50aXRsZWQ%3D?line=4'>5</a>\u001b[0m \u001b[39mprint\u001b[39m(V)\n",
      "\u001b[1;31mTypeError\u001b[0m: '<' not supported between instances of 'str' and 'int'"
     ]
    }
   ],
   "source": [
    "#------- List Method -------\n",
    "V = [10,1,9,60,99, \"Danya\",100]\n",
    "V.sort( reverse = True )\n",
    "print(V)\n",
    "\n",
    "# The Sort is just for Str and  int not for mix"
   ]
  },
  {
   "cell_type": "code",
   "execution_count": 34,
   "metadata": {},
   "outputs": [
    {
     "name": "stdout",
     "output_type": "stream",
     "text": [
      "[100, 'Danya', 99, 60, 9, 1, 10]\n"
     ]
    }
   ],
   "source": [
    "#------- List Method -------\n",
    "V = [10,1,9,60,99, \"Danya\",100]\n",
    "V.reverse()\n",
    "print(V)\n",
    "\n",
    "# The Sort is just for Str and  int not for mix"
   ]
  },
  {
   "cell_type": "code",
   "execution_count": 35,
   "metadata": {},
   "outputs": [
    {
     "name": "stdout",
     "output_type": "stream",
     "text": [
      "[]\n"
     ]
    }
   ],
   "source": [
    "#------- List Method -------\n",
    "#-------    Clear    -------    remove all items form the list \n",
    "a = [1,2,3,4,5]\n",
    "a.clear()\n",
    "print(a)"
   ]
  },
  {
   "cell_type": "code",
   "execution_count": 41,
   "metadata": {},
   "outputs": [
    {
     "name": "stdout",
     "output_type": "stream",
     "text": [
      "[1, 2, 3, 4, 5]\n",
      "[1, 2, 3, 4, 5]\n",
      "[1, 2, 3, 4, 5, 6]\n",
      "6\n"
     ]
    }
   ],
   "source": [
    "#------- List Method -------\n",
    "#-------    Copy    -------    \n",
    "a = [1,2,3,4,5]\n",
    "c= a.copy()\n",
    "print(a)\n",
    "print(c)\n",
    "a.append(6)\n",
    "print(a)\n",
    "print(6)\n"
   ]
  },
  {
   "cell_type": "code",
   "execution_count": 42,
   "metadata": {},
   "outputs": [
    {
     "name": "stdout",
     "output_type": "stream",
     "text": [
      "4\n"
     ]
    }
   ],
   "source": [
    "#------- List Method -------\n",
    "#-------    Count    -------  \n",
    "d = [ 1,2,3,4,5,1,2,3,1,2,3,1]\n",
    "print(d.count(1))  # this is to see how many times does the 1 has repeated"
   ]
  },
  {
   "cell_type": "code",
   "execution_count": 47,
   "metadata": {},
   "outputs": [
    {
     "name": "stdout",
     "output_type": "stream",
     "text": [
      "4\n",
      "0\n"
     ]
    }
   ],
   "source": [
    "#------- List Method -------\n",
    "#-------    index    -------  \n",
    "family = ['Omar', 'shefa', 'Mais', 'Yazan', 'Tammem']\n",
    "print(family.index(\"Tammem\"))                        # This is to check the index for vertain element\n",
    "# if the item has any duplication it gives the first one\n",
    "family = ['Omar', 'shefa', 'Mais', 'Yazan', 'Tammem','Omar']\n",
    "print(family.index(\"Omar\"))"
   ]
  },
  {
   "cell_type": "code",
   "execution_count": 51,
   "metadata": {},
   "outputs": [
    {
     "name": "stdout",
     "output_type": "stream",
     "text": [
      "['Hello', 10, 4, 5, 8, 6, 2, 7]\n",
      "['Hello', 10, 4, 5, 8, 6, 2, 'Hello', 7]\n"
     ]
    }
   ],
   "source": [
    "#------- List Method -------\n",
    "#-------    insert   -------  \n",
    "\n",
    "#------- insert look like the append , but append put the objects in the end of the list\n",
    "#------- in the  insert(index,object) & insert object befor the index\n",
    "\n",
    "z = [10,4,5,8,6,2,7]\n",
    "z.insert(0,\"Hello\")\n",
    "print(z)\n",
    "z.insert(-1,\"Hello\")\n",
    "print(z)"
   ]
  },
  {
   "cell_type": "code",
   "execution_count": 57,
   "metadata": {},
   "outputs": [
    {
     "name": "stdout",
     "output_type": "stream",
     "text": [
      "O\n",
      "1\n",
      "60\n",
      "D\n"
     ]
    }
   ],
   "source": [
    "#------- List Method -------\n",
    "#-------     pop     -------  pop(index) : remove and return item at index(default last)\n",
    "\n",
    "V = [10,1,9,60,99, \"D\" , \"O\"]\n",
    "print(V.pop())\n",
    "print(V.pop(1))\n",
    "print(V.pop(2))\n",
    "print(V.pop(-1))"
   ]
  }
 ],
 "metadata": {
  "kernelspec": {
   "display_name": "Python 3",
   "language": "python",
   "name": "python3"
  },
  "language_info": {
   "codemirror_mode": {
    "name": "ipython",
    "version": 3
   },
   "file_extension": ".py",
   "mimetype": "text/x-python",
   "name": "python",
   "nbconvert_exporter": "python",
   "pygments_lexer": "ipython3",
   "version": "3.11.2"
  }
 },
 "nbformat": 4,
 "nbformat_minor": 2
}
